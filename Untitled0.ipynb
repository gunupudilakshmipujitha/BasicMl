{
  "nbformat": 4,
  "nbformat_minor": 0,
  "metadata": {
    "colab": {
      "name": "Untitled0.ipynb",
      "provenance": [],
      "collapsed_sections": [],
      "include_colab_link": true
    },
    "kernelspec": {
      "name": "python3",
      "display_name": "Python 3"
    },
    "language_info": {
      "name": "python"
    }
  },
  "cells": [
    {
      "cell_type": "markdown",
      "metadata": {
        "id": "view-in-github",
        "colab_type": "text"
      },
      "source": [
        "<a href=\"https://colab.research.google.com/github/gunupudilakshmipujitha/BasicMl/blob/main/Untitled0.ipynb\" target=\"_parent\"><img src=\"https://colab.research.google.com/assets/colab-badge.svg\" alt=\"Open In Colab\"/></a>"
      ]
    },
    {
      "cell_type": "markdown",
      "metadata": {
        "id": "9MTRw97vPHbl"
      },
      "source": [
        "# **MY FIRST NOTE BOOK**"
      ]
    },
    {
      "cell_type": "code",
      "metadata": {
        "id": "H0HBDkj5PPmW"
      },
      "source": [
        "SUM OF TWO NUMBERS\n"
      ],
      "execution_count": null,
      "outputs": []
    },
    {
      "cell_type": "code",
      "metadata": {
        "colab": {
          "base_uri": "https://localhost:8080/"
        },
        "id": "OSCZsFZAPXi5",
        "outputId": "99fea5d0-8707-4cf1-dc4e-af2fb11d0224"
      },
      "source": [
        "a = int(input())\n",
        "b = int(input())\n",
        "c = a+b\n",
        "print(c)\n"
      ],
      "execution_count": null,
      "outputs": [
        {
          "output_type": "stream",
          "text": [
            "23\n",
            "45\n",
            "68\n"
          ],
          "name": "stdout"
        }
      ]
    },
    {
      "cell_type": "code",
      "metadata": {
        "id": "cEvGhyJuPvDb"
      },
      "source": [
        "EVEN OR ODD\n"
      ],
      "execution_count": null,
      "outputs": []
    },
    {
      "cell_type": "code",
      "metadata": {
        "colab": {
          "base_uri": "https://localhost:8080/"
        },
        "id": "aMPUI5H5P2ai",
        "outputId": "312d2551-2df8-4c9b-b619-5955720d31da"
      },
      "source": [
        "n = int(input(\"enter the number:\"))\n",
        "if(n%2==0):\n",
        "  print(n,\"is even\")\n",
        "else:\n",
        "  print(n,\"is odd\")\n",
        "  \n"
      ],
      "execution_count": null,
      "outputs": [
        {
          "output_type": "stream",
          "text": [
            "enter the number:15\n",
            "15 is odd\n"
          ],
          "name": "stdout"
        }
      ]
    },
    {
      "cell_type": "code",
      "metadata": {
        "id": "BTXA0E8nQtIh"
      },
      "source": [
        "positive or negative\n"
      ],
      "execution_count": null,
      "outputs": []
    },
    {
      "cell_type": "code",
      "metadata": {
        "colab": {
          "base_uri": "https://localhost:8080/"
        },
        "id": "qqmmPCw6QyJf",
        "outputId": "9a498b28-dcf2-47c7-a6c2-d95e34b2b23e"
      },
      "source": [
        "a = int(input(\"enter the number:\"))\n",
        "if a>0:\n",
        "  print(a,\"is positive\")\n",
        "elif a<0:\n",
        "  print(a,\"is negative\")\n",
        "else:\n",
        "  print(\"Neither positive nor positive\")\n",
        "  "
      ],
      "execution_count": null,
      "outputs": [
        {
          "output_type": "stream",
          "text": [
            "enter the number:3\n",
            "3 is positive\n"
          ],
          "name": "stdout"
        }
      ]
    }
  ]
}